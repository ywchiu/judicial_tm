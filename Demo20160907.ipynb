{
 "cells": [
  {
   "cell_type": "markdown",
   "metadata": {},
   "source": [
    "# Demo20160907"
   ]
  },
  {
   "cell_type": "code",
   "execution_count": 2,
   "metadata": {
    "collapsed": false
   },
   "outputs": [
    {
     "data": {
      "text/plain": [
       "5"
      ]
     },
     "execution_count": 2,
     "metadata": {},
     "output_type": "execute_result"
    }
   ],
   "source": [
    "a = 3\n",
    "b = 2\n",
    "a + b"
   ]
  },
  {
   "cell_type": "markdown",
   "metadata": {},
   "source": [
    "## 文字分析"
   ]
  },
  {
   "cell_type": "code",
   "execution_count": 27,
   "metadata": {
    "collapsed": false
   },
   "outputs": [
    {
     "name": "stdout",
     "output_type": "stream",
     "text": [
      "[('，', 6), ('本院', 6), ('年度', 5), ('被告', 5), ('(', 4), ('等', 4), (')', 4), ('旁', 4), ('.', 4), ('105', 4), ('第', 4), ('案件', 4), ('陳', 4), ('新聞稿', 4), ('法庭', 3), ('之', 3), ('號', 3), ('公告', 3), ('聽', 3), ('。', 3)]\n"
     ]
    },
    {
     "name": "stderr",
     "output_type": "stream",
     "text": [
      "C:\\Anaconda3\\lib\\site-packages\\bs4\\__init__.py:166: UserWarning: No parser was explicitly specified, so I'm using the best available HTML parser for this system (\"lxml\"). This usually isn't a problem, but if you run this code on another system, or in a different virtual environment, it may use a different parser and behave differently.\n",
      "\n",
      "To get rid of this warning, change this:\n",
      "\n",
      " BeautifulSoup([your markup])\n",
      "\n",
      "to this:\n",
      "\n",
      " BeautifulSoup([your markup], \"lxml\")\n",
      "\n",
      "  markup_type=markup_type))\n"
     ]
    }
   ],
   "source": [
    "import requests\n",
    "import jieba\n",
    "from bs4 import BeautifulSoup\n",
    "from collections import Counter\n",
    "c = Counter()\n",
    "res = requests.get('http://www.judicial.gov.tw/tab.asp')\n",
    "res.encoding  = 'big5'\n",
    "soup = BeautifulSoup(res.text)\n",
    "#print(res.text)\n",
    "for tr in soup.select('table tr' ):\n",
    "    if len(tr.select('td')) > 2:\n",
    "        for ele in jieba.cut(tr.select('td')[2].text):\n",
    "            c[ele] += 1\n",
    "    #td = tr.select('td')[0].text\n",
    "print(c.most_common(20))"
   ]
  },
  {
   "cell_type": "code",
   "execution_count": 28,
   "metadata": {
    "collapsed": true
   },
   "outputs": [],
   "source": [
    "import jieba"
   ]
  },
  {
   "cell_type": "code",
   "execution_count": 33,
   "metadata": {
    "collapsed": false
   },
   "outputs": [
    {
     "name": "stdout",
     "output_type": "stream",
     "text": [
      "大\n",
      "巨蛋\n",
      "案對\n",
      "市府\n",
      "同仁\n",
      "下\n",
      "封口令\n",
      "？\n",
      "　\n",
      "柯\n",
      "P\n",
      "否認\n"
     ]
    }
   ],
   "source": [
    "seg_list = jieba.cut(\"大巨蛋案對市府同仁下封口令？　柯P否認\")\n",
    "for w in seg_list:\n",
    "    print(w)"
   ]
  },
  {
   "cell_type": "code",
   "execution_count": 34,
   "metadata": {
    "collapsed": false
   },
   "outputs": [
    {
     "name": "stdout",
     "output_type": "stream",
     "text": [
      "Full Mode: 大/ 巨蛋/ 案/ 對/ 市府/ 同仁/ 下/ 封口/ 封口令/ 口令/ / / / 柯/ P/ 否/ 認\n",
      "Default Mode: 大/ 巨蛋/ 案對/ 市府/ 同仁/ 下/ 封口令/ ？/ 　/ 柯/ P/ 否認\n"
     ]
    }
   ],
   "source": [
    "\n",
    "seg_list = jieba.cut(\"大巨蛋案對市府同仁下封口令？　柯P否認\", cut_all=True)\n",
    "print(\"Full Mode:\", \"/ \".join(seg_list))\n",
    "\n",
    "\n",
    "seg_list = jieba.cut(\"大巨蛋案對市府同仁下封口令？　柯P否認\", cut_all=False)\n",
    "print(\"Default Mode:\", \"/ \".join(seg_list))"
   ]
  },
  {
   "cell_type": "code",
   "execution_count": 39,
   "metadata": {
    "collapsed": false
   },
   "outputs": [],
   "source": [
    "jieba.load_userdict(\"C:\\\\Users\\\\TPJ\\\\Documents\\\\userdict.txt\")"
   ]
  },
  {
   "cell_type": "code",
   "execution_count": 37,
   "metadata": {
    "collapsed": false
   },
   "outputs": [
    {
     "name": "stdout",
     "output_type": "stream",
     "text": [
      "Default Mode: 大巨蛋/ 案對/ 市府/ 同仁/ 下/ 封口令/ ？/ 　/ 柯P/ 否認\n"
     ]
    }
   ],
   "source": [
    "seg_list = jieba.cut(\"大巨蛋案對市府同仁下封口令？　柯P否認\")\n",
    "print(\"Default Mode:\", \"/ \".join(seg_list))"
   ]
  },
  {
   "cell_type": "code",
   "execution_count": 40,
   "metadata": {
    "collapsed": false
   },
   "outputs": [
    {
     "name": "stdout",
     "output_type": "stream",
     "text": [
      "大巨蛋 n\n",
      "案 ng\n",
      "對 p\n",
      "市府 n\n",
      "同仁 nr\n",
      "下 f\n",
      "封口令 n\n",
      "？ x\n",
      "　 x\n",
      "柯P n\n",
      "否認 v\n"
     ]
    }
   ],
   "source": [
    "import jieba.posseg as pseg\n",
    "words = pseg.cut(\"大巨蛋案對市府同仁下封口令？　柯P否認\")\n",
    "for w in words:\n",
    "    print(w.word, w.flag)"
   ]
  },
  {
   "cell_type": "code",
   "execution_count": 42,
   "metadata": {
    "collapsed": false
   },
   "outputs": [],
   "source": [
    "jieba.add_word('柯P')\n",
    "jieba.add_word('柯P', 100)\n",
    "jieba.add_word('柯P', 100, 'nr')"
   ]
  },
  {
   "cell_type": "code",
   "execution_count": 45,
   "metadata": {
    "collapsed": false
   },
   "outputs": [
    {
     "name": "stdout",
     "output_type": "stream",
     "text": [
      "('大巨蛋', 0, 3)\n",
      "大巨蛋 0 3\n",
      "('案對', 3, 5)\n",
      "案對 3 5\n",
      "('市府', 5, 7)\n",
      "市府 5 7\n",
      "('同仁', 7, 9)\n",
      "同仁 7 9\n",
      "('下', 9, 10)\n",
      "下 9 10\n",
      "('封口令', 10, 13)\n",
      "封口令 10 13\n",
      "('？', 13, 14)\n",
      "？ 13 14\n",
      "('\\u3000', 14, 15)\n",
      "　 14 15\n",
      "('柯P', 15, 17)\n",
      "柯P 15 17\n",
      "('否認', 17, 19)\n",
      "否認 17 19\n"
     ]
    }
   ],
   "source": [
    "sentence = \"大巨蛋案對市府同仁下封口令？　柯P否認\"\n",
    "words = jieba.tokenize(sentence)\n",
    "\n",
    "for tw in words:\n",
    "    print(tw)\n",
    "    print(tw[0], tw[1], tw[2])"
   ]
  },
  {
   "cell_type": "code",
   "execution_count": 46,
   "metadata": {
    "collapsed": false
   },
   "outputs": [
    {
     "name": "stdout",
     "output_type": "stream",
     "text": [
      "封口令\n"
     ]
    }
   ],
   "source": [
    "import jieba.analyse\n",
    "tags = jieba.analyse.extract_tags(sentence, 1)\n",
    "print(\",\".join(tags))"
   ]
  },
  {
   "cell_type": "code",
   "execution_count": 51,
   "metadata": {
    "collapsed": false
   },
   "outputs": [
    {
     "name": "stdout",
     "output_type": "stream",
     "text": [
      "那\n",
      "嗎\n",
      "那我\n",
      "那我\n",
      "我們\n",
      "們酸\n",
      "酸民\n",
      "民婉\n",
      "婉君\n",
      "君也\n",
      "也可\n",
      "可以\n",
      "以報\n",
      "報名\n",
      "名嗎\n"
     ]
    }
   ],
   "source": [
    "sentence='那我們酸民婉君也可以報名嗎'\n",
    "print(sentence[0])\n",
    "print(sentence[-1])\n",
    "print(sentence[0:2]) # for (i=0 ; i< 2; i++)\n",
    "\n",
    "\n",
    "for i in range(0, len(sentence) - 2 + 1):\n",
    "    print(sentence[i:i+2])"
   ]
  },
  {
   "cell_type": "code",
   "execution_count": 53,
   "metadata": {
    "collapsed": false
   },
   "outputs": [
    {
     "name": "stdout",
     "output_type": "stream",
     "text": [
      "那我們\n",
      "我們酸\n",
      "們酸民\n",
      "酸民婉\n",
      "民婉君\n",
      "婉君也\n",
      "君也可\n",
      "也可以\n",
      "可以報\n",
      "以報名\n",
      "報名嗎\n"
     ]
    }
   ],
   "source": [
    "sentence='那我們酸民婉君也可以報名嗎'\n",
    "\n",
    "for i in range(0, len(sentence) - 3 + 1):\n",
    "    print(sentence[i:i+3])"
   ]
  },
  {
   "cell_type": "code",
   "execution_count": 54,
   "metadata": {
    "collapsed": true
   },
   "outputs": [],
   "source": [
    "def ngram(sentence, n = 2):\n",
    "    for i in range(0, len(sentence) - n + 1):\n",
    "        print(sentence[i:i+n])"
   ]
  },
  {
   "cell_type": "code",
   "execution_count": 57,
   "metadata": {
    "collapsed": false
   },
   "outputs": [
    {
     "name": "stdout",
     "output_type": "stream",
     "text": [
      "那我們酸\n",
      "我們酸民\n",
      "們酸民婉\n",
      "酸民婉君\n",
      "民婉君也\n",
      "婉君也可\n",
      "君也可以\n",
      "也可以報\n",
      "可以報名\n",
      "以報名嗎\n"
     ]
    }
   ],
   "source": [
    "ngram(sentence, 4)"
   ]
  },
  {
   "cell_type": "code",
   "execution_count": 60,
   "metadata": {
    "collapsed": false
   },
   "outputs": [
    {
     "name": "stdout",
     "output_type": "stream",
     "text": [
      "Counter({'c': 2, 'b': 2, 'a': 2})\n",
      "[('c', 2), ('b', 2)]\n"
     ]
    }
   ],
   "source": [
    "from collections import Counter\n",
    "c = Counter()\n",
    "a = ['a' ,'b', 'c', 'a', 'b', 'c']\n",
    "for w in a:\n",
    "    c[w] +=1\n",
    "print(c)\n",
    "print(c.most_common(2))"
   ]
  },
  {
   "cell_type": "code",
   "execution_count": 61,
   "metadata": {
    "collapsed": false
   },
   "outputs": [],
   "source": [
    "apple = '''\n",
    "42歲的鈴木一朗在今天馬林魚主場對費人之戰，於8局下擔任代打，敲出右外野兩分全壘打，這不但是他本季首轟，也是他自2001年轉戰大聯盟以來的首發代打全壘打，不過他在9局下一、二壘有人時，未能再敲出安打，馬林魚終場就以3比4輸球，季後賽機會愈來愈小。\n",
    "一朗在8局下擔任第9棒投手的代打，面對費城人牛棚主力納瑞斯(Hector Neris)，在放過3顆超過154公里的快速球後，逮到一記指叉球，一棒撈上右外野看台，將比數追近到3比4，這是他大聯盟生涯第114轟，這也讓他大聯盟生涯16季均敲出全壘打。\n",
    "這一轟讓一朗大聯盟生涯已累積至3019支安打，只要再敲1安，即可追平名將帕梅洛(Rafael Palmeiro)，在大聯盟史上並列第26。\n",
    "在一朗之前，今天登錄回大聯盟的大砲史坦頓(Giancarlo Stanton)在5局下率先代打投手棒次，也敲出安打，下一戰他就可能回到先發打線。(謝岱穎／綜合報導)\n",
    "'''"
   ]
  },
  {
   "cell_type": "code",
   "execution_count": 64,
   "metadata": {
    "collapsed": true
   },
   "outputs": [],
   "source": [
    "def ngram2(sentence, n = 2):\n",
    "    c = Counter()\n",
    "    for i in range(0, len(sentence) - n + 1):\n",
    "        w = sentence[i:i+n]\n",
    "        c[w] += 1\n",
    "    return c"
   ]
  },
  {
   "cell_type": "code",
   "execution_count": 69,
   "metadata": {
    "collapsed": false
   },
   "outputs": [
    {
     "name": "stdout",
     "output_type": "stream",
     "text": [
      "[('大聯盟生涯', 3), ('敲出安打，', 2), ('8局下擔任', 2), ('他大聯盟生', 2), ('再敲出安打', 1), ('數追近到3', 1), ('後賽機會愈', 1), ('人時，未能', 1), ('率先代打投', 1), ('Neris', 1), ('代打，敲出', 1), ('出全壘打。', 1), ('里的快速球', 1), ('外野看台，', 1), ('4轟，這也', 1), ('岱穎／綜合', 1), ('野兩分全壘', 1), ('棒次，也敲', 1), ('今天馬林魚', 1), ('就可能回到', 1), ('打全壘打，', 1), ('盟生涯16', 1), ('的首發代打', 1), ('(謝岱穎／', 1), ('次，也敲出', 1), ('3比4，這', 1), ('s)，在放', 1), ('is)，在', 1), ('叉球，一棒', 1), ('戰大聯盟以', 1)]\n"
     ]
    }
   ],
   "source": [
    "cnt = ngram2(apple, 5)\n",
    "print(cnt.most_common(30))"
   ]
  },
  {
   "cell_type": "code",
   "execution_count": 70,
   "metadata": {
    "collapsed": false
   },
   "outputs": [
    {
     "name": "stdout",
     "output_type": "stream",
     "text": [
      "最高法院及最高行政法院裁判資料於評決後一個月提供查詢\n",
      "其餘法院於書記官製作裁判正本\n",
      "刑事為收領原本後七日內\n",
      "民事為收領原本後十日內\n",
      "並交付送達當事人後\n",
      "二日內提供查詢\n",
      "\n"
     ]
    }
   ],
   "source": [
    "import re\n",
    "delimiter = \"，|。|、|\\(|\\)\"  \n",
    "text = '最高法院及最高行政法院裁判資料於評決後一個月提供查詢。其餘法院於書記官製作裁判正本(刑事為收領原本後七日內，民事為收領原本後十日內)並交付送達當事人後，二日內提供查詢。'\n",
    "for i in re.split(delimiter, text):\n",
    "    print(i)"
   ]
  },
  {
   "cell_type": "code",
   "execution_count": 74,
   "metadata": {
    "collapsed": false
   },
   "outputs": [
    {
     "name": "stdout",
     "output_type": "stream",
     "text": [
      "['最高法院及最高', '裁判資料於評決後一個月提供查詢']\n",
      "最高法院及最高裁判資料於評決後一個月提供查詢\n"
     ]
    }
   ],
   "source": [
    "sentence = '最高法院及最高行政法院裁判資料於評決後一個月提供查詢'\n",
    "split_s = sentence.split('行政法院')\n",
    "print(split_s)\n",
    "join_s = ''.join(split_s)\n",
    "print(join_s)\n"
   ]
  },
  {
   "cell_type": "code",
   "execution_count": 75,
   "metadata": {
    "collapsed": false
   },
   "outputs": [
    {
     "data": {
      "text/plain": [
       "'將公布'"
      ]
     },
     "execution_count": 75,
     "metadata": {},
     "output_type": "execute_result"
    }
   ],
   "source": [
    "def removeKey(text, keyword):\n",
    "    textAry= text\n",
    "    for key in keyword:\n",
    "        textAry = ''.join(textAry.split(key))\n",
    "    return textAry\n",
    "\n",
    "a = '民進黨後天將公布'\n",
    "removeKey(a, ['民進黨', '後天'])"
   ]
  },
  {
   "cell_type": "code",
   "execution_count": 76,
   "metadata": {
    "collapsed": false
   },
   "outputs": [
    {
     "name": "stdout",
     "output_type": "stream",
     "text": [
      "['最高法院及最高行政法院裁判資料於評決後一個月提供查詢', '其餘法院於書記官製作裁判正本', '刑事為收領原本後七日內', '民事為收領原本後十日內', '並交付送達當事人後', '二日內提供查詢', '']\n"
     ]
    }
   ],
   "source": [
    "text = '最高法院及最高行政法院裁判資料於評決後一個月提供查詢。其餘法院於書記官製作裁判正本(刑事為收領原本後七日內，民事為收領原本後十日內)並交付送達當事人後，二日內提供查詢。'\n",
    "sentenceAry  = re.split(delimiter, text)\n",
    "print(sentenceAry)"
   ]
  },
  {
   "cell_type": "markdown",
   "metadata": {},
   "source": [
    "## 長詞優先法"
   ]
  },
  {
   "cell_type": "code",
   "execution_count": 86,
   "metadata": {
    "collapsed": false
   },
   "outputs": [
    {
     "name": "stdout",
     "output_type": "stream",
     "text": [
      "['\\n42歲的鈴木一朗在今天馬林魚主場對費人之戰', '於8局下擔任代打', '敲出右外野兩分全壘打', '這不但是他本季首轟', '也是他自2001年轉戰大聯盟以來的首發代打全壘打', '不過他在9局下一', '二壘有人時', '未能再敲出安打', '馬林魚終場就以3比4輸球', '季後賽機會愈來愈小', '\\n一朗在8局下擔任第9棒投手的代打', '面對費城人牛棚主力納瑞斯', 'Hector Neris', '', '在放過3顆超過154公里的快速球後', '逮到一記指叉球', '一棒撈上右外野看台', '將比數追近到3比4', '這是他大聯盟生涯第114轟', '這也讓他大聯盟生涯16季均敲出全壘打', '\\n這一轟讓一朗大聯盟生涯已累積至3019支安打', '只要再敲1安', '即可追平名將帕梅洛', 'Rafael Palmeiro', '', '在大聯盟史上並列第26', '\\n在一朗之前', '今天登錄回大聯盟的大砲史坦頓', 'Giancarlo Stanton', '在5局下率先代打投手棒次', '也敲出安打', '下一戰他就可能回到先發打線', '', '謝岱穎／綜合報導', '\\n']\n"
     ]
    }
   ],
   "source": [
    "apple = '''\n",
    "42歲的鈴木一朗在今天馬林魚主場對費人之戰，於8局下擔任代打，敲出右外野兩分全壘打，這不但是他本季首轟，也是他自2001年轉戰大聯盟以來的首發代打全壘打，不過他在9局下一、二壘有人時，未能再敲出安打，馬林魚終場就以3比4輸球，季後賽機會愈來愈小。\n",
    "一朗在8局下擔任第9棒投手的代打，面對費城人牛棚主力納瑞斯(Hector Neris)，在放過3顆超過154公里的快速球後，逮到一記指叉球，一棒撈上右外野看台，將比數追近到3比4，這是他大聯盟生涯第114轟，這也讓他大聯盟生涯16季均敲出全壘打。\n",
    "這一轟讓一朗大聯盟生涯已累積至3019支安打，只要再敲1安，即可追平名將帕梅洛(Rafael Palmeiro)，在大聯盟史上並列第26。\n",
    "在一朗之前，今天登錄回大聯盟的大砲史坦頓(Giancarlo Stanton)在5局下率先代打投手棒次，也敲出安打，下一戰他就可能回到先發打線。(謝岱穎／綜合報導)\n",
    "'''\n",
    "sentenceAry  = re.split(delimiter, apple)\n",
    "print(sentenceAry)"
   ]
  },
  {
   "cell_type": "code",
   "execution_count": 87,
   "metadata": {
    "collapsed": true
   },
   "outputs": [],
   "source": [
    "def ngram(sentence, n = 2):\n",
    "    c = Counter()\n",
    "    for i in range(0, len(sentence) - n + 1):\n",
    "        w = sentence[i:i+n]\n",
    "        c[w] += 1\n",
    "    return c"
   ]
  },
  {
   "cell_type": "code",
   "execution_count": 103,
   "metadata": {
    "collapsed": false
   },
   "outputs": [],
   "source": [
    "from collections import Counter\n",
    "keywords    = []        \n",
    "words_freq  = []\n",
    "ret_terms=Counter()\n",
    "\n",
    "\n",
    "for term_length in range(5, 1 ,-1): # from 4 to 2\n",
    "    word_dic = Counter()\n",
    "    for sentence in sentenceAry:\n",
    "        text_list = removeKey(sentence,keywords) \n",
    "        #print(keywords)\n",
    "        ngram_words = ngram(text_list,term_length) \n",
    "        word_dic += ngram_words        \n",
    "    for word in word_dic:\n",
    "        if word_dic[word] >= 3:\n",
    "            keywords.append(word)            "
   ]
  },
  {
   "cell_type": "code",
   "execution_count": 104,
   "metadata": {
    "collapsed": false
   },
   "outputs": [
    {
     "data": {
      "text/plain": [
       "['大聯盟生涯', '大聯盟', '全壘打', '一朗', '是他', '代打', '局下', '敲出', '安打']"
      ]
     },
     "execution_count": 104,
     "metadata": {},
     "output_type": "execute_result"
    }
   ],
   "source": [
    "keywords"
   ]
  },
  {
   "cell_type": "code",
   "execution_count": null,
   "metadata": {
    "collapsed": true
   },
   "outputs": [],
   "source": []
  },
  {
   "cell_type": "code",
   "execution_count": null,
   "metadata": {
    "collapsed": true
   },
   "outputs": [],
   "source": []
  }
 ],
 "metadata": {
  "kernelspec": {
   "display_name": "Python [Root]",
   "language": "python",
   "name": "Python [Root]"
  },
  "language_info": {
   "codemirror_mode": {
    "name": "ipython",
    "version": 3
   },
   "file_extension": ".py",
   "mimetype": "text/x-python",
   "name": "python",
   "nbconvert_exporter": "python",
   "pygments_lexer": "ipython3",
   "version": "3.5.2"
  }
 },
 "nbformat": 4,
 "nbformat_minor": 0
}
