{
 "cells": [
  {
   "cell_type": "markdown",
   "metadata": {},
   "source": [
    "## 英文斷詞"
   ]
  },
  {
   "cell_type": "code",
   "execution_count": 2,
   "metadata": {
    "collapsed": false
   },
   "outputs": [
    {
     "data": {
      "text/plain": [
       "['this', 'is', 'a', 'book']"
      ]
     },
     "execution_count": 2,
     "metadata": {},
     "output_type": "execute_result"
    }
   ],
   "source": [
    "s = 'this is a book'\n",
    "s.split()"
   ]
  },
  {
   "cell_type": "markdown",
   "metadata": {},
   "source": [
    "## 正規表達法斷句"
   ]
  },
  {
   "cell_type": "code",
   "execution_count": 4,
   "metadata": {
    "collapsed": false
   },
   "outputs": [],
   "source": [
    "s = '三星電子前天宣告Note7停產，全球正全面回收。台灣三星Note7在台售出4萬2000支，至昨仍有6000支未登記退換貨，考量安全，NCC（國家通訊傳播委員會）昨和台灣三星研擬，透過遠端韌體升級，逐步調低Note7電池容量，促使消費者出面辦理退換貨，全面回收。'"
   ]
  },
  {
   "cell_type": "code",
   "execution_count": 5,
   "metadata": {
    "collapsed": false
   },
   "outputs": [
    {
     "data": {
      "text/plain": [
       "['三星電子前天宣告Note7停產',\n",
       " '全球正全面回收',\n",
       " '台灣三星Note7在台售出4萬2000支',\n",
       " '至昨仍有6000支未登記退換貨',\n",
       " '考量安全',\n",
       " 'NCC（國家通訊傳播委員會）昨和台灣三星研擬',\n",
       " '透過遠端韌體升級',\n",
       " '逐步調低Note7電池容量',\n",
       " '促使消費者出面辦理退換貨',\n",
       " '全面回收',\n",
       " '']"
      ]
     },
     "execution_count": 5,
     "metadata": {},
     "output_type": "execute_result"
    }
   ],
   "source": [
    "import re\n",
    "re.split('，|。', s)"
   ]
  },
  {
   "cell_type": "markdown",
   "metadata": {},
   "source": [
    "## 使用Jieba 斷詞"
   ]
  },
  {
   "cell_type": "code",
   "execution_count": 7,
   "metadata": {
    "collapsed": false
   },
   "outputs": [
    {
     "name": "stdout",
     "output_type": "stream",
     "text": [
      "三星\n",
      "電子\n",
      "前天\n",
      "宣告\n",
      "Note7\n",
      "停產\n",
      "，\n",
      "全球\n",
      "正\n",
      "全面\n",
      "回收\n",
      "。\n",
      "台灣\n",
      "三星\n",
      "Note7\n",
      "在\n",
      "台\n",
      "售出\n",
      "4\n",
      "萬\n",
      "2000\n",
      "支\n",
      "，\n",
      "至\n",
      "昨\n",
      "仍\n",
      "有\n",
      "6000\n",
      "支未\n",
      "登記\n",
      "退換貨\n",
      "，\n",
      "考量\n",
      "安全\n",
      "，\n",
      "NCC\n",
      "（\n",
      "國家\n",
      "通訊\n",
      "傳播\n",
      "委員會\n",
      "）\n",
      "昨和台灣\n",
      "三星\n",
      "研擬\n",
      "，\n",
      "透過\n",
      "遠端\n",
      "韌體\n",
      "升級\n",
      "，\n",
      "逐步\n",
      "調低\n",
      "Note7\n",
      "電池\n",
      "容量\n",
      "，\n",
      "促使\n",
      "消費者\n",
      "出面\n",
      "辦理\n",
      "退換貨\n",
      "，\n",
      "全面\n",
      "回收\n",
      "。\n"
     ]
    }
   ],
   "source": [
    "import jieba\n",
    "s = '三星電子前天宣告Note7停產，全球正全面回收。台灣三星Note7在台售出4萬2000支，至昨仍有6000支未登記退換貨，考量安全，NCC（國家通訊傳播委員會）昨和台灣三星研擬，透過遠端韌體升級，逐步調低Note7電池容量，促使消費者出面辦理退換貨，全面回收。'\n",
    "for word in jieba.cut(s):\n",
    "    print(word)"
   ]
  },
  {
   "cell_type": "code",
   "execution_count": 9,
   "metadata": {
    "collapsed": false
   },
   "outputs": [
    {
     "name": "stdout",
     "output_type": "stream",
     "text": [
      "大\n",
      "巨蛋\n",
      "案對\n",
      "市府\n",
      "同仁\n",
      "下\n",
      "封口令\n",
      "？\n",
      "　\n",
      "柯\n",
      "P\n",
      "否認\n"
     ]
    }
   ],
   "source": [
    "s = '大巨蛋案對市府同仁下封口令？　柯P否認'\n",
    "for word in jieba.cut(s):\n",
    "    print(word)"
   ]
  },
  {
   "cell_type": "markdown",
   "metadata": {},
   "source": [
    "## 載入使用者字典"
   ]
  },
  {
   "cell_type": "code",
   "execution_count": 10,
   "metadata": {
    "collapsed": false
   },
   "outputs": [
    {
     "name": "stdout",
     "output_type": "stream",
     "text": [
      "大巨蛋\n",
      "案對\n",
      "市府\n",
      "同仁\n",
      "下\n",
      "封口令\n",
      "？\n",
      "　\n",
      "柯P\n",
      "否認\n"
     ]
    }
   ],
   "source": [
    "jieba.load_userdict(\"userdict.txt\")\n",
    "s = '大巨蛋案對市府同仁下封口令？　柯P否認'\n",
    "for word in jieba.cut(s):\n",
    "    print(word)"
   ]
  },
  {
   "cell_type": "markdown",
   "metadata": {},
   "source": [
    "## 文字量化"
   ]
  },
  {
   "cell_type": "markdown",
   "metadata": {},
   "source": [
    "## Python Collections\n",
    "- https://docs.python.org/2/library/collections.html"
   ]
  },
  {
   "cell_type": "code",
   "execution_count": 11,
   "metadata": {
    "collapsed": true
   },
   "outputs": [],
   "source": [
    "article = \"\"\"\n",
    "台6千支Note7 未登記退貨\n",
    "NCC防爆 與三星研擬調降電量 促客換機\n",
    "2016年10月13日      \n",
    "\n",
    "三星給美國部分用戶的「防火回收箱」中，包括防過敏手套、內側有防火塗料的盒子及防靜電袋。翻攝網路\n",
    "【綜合報導】三星電子前天宣告Note7停產，全球正全面回收。台灣三星Note7在台售出4萬2000支，至昨仍有6000支未登記退換貨，考量安全，NCC（國家通訊傳播委員會）昨和台灣三星研擬，透過遠端韌體升級，逐步調低Note7電池容量，促使消費者出面辦理退換貨，全面回收。\n",
    "\n",
    "\n",
    "Note7因自燃而全面停產回收，台灣還有六千支未登記退換貨。資料照片\n",
    "美今明公布調查\n",
    "據NCC統計Note7在台賣出4萬2000支，其中6000支已申請退款，餘3萬6000支中，有3萬支辦理換貨登記。NCC表示，將透過遠端韌體升級方式，分階段調低電池容量，如首次將電池容量上限設定為60%，下次更新就改為40%、20%，一開機就會強制更新，一旦消費者覺得Note7不好用，就會辦理退貨。 \n",
    "國內電信業者表示，昨首日開放Note7申辦退換貨，人數和首次差不多。另NCC正找尋第三方單位調查Note7自燃原因，但預計美國消費品安全委員會今、明應會公布調查結果，若確定原因，台灣將不再調查。 \n",
    "\n",
    "預測營利下修33%\n",
    "彭博引述三星人士說法，針對最近數起Note7爆炸殘骸，調查人員初步認為更新版電池恐仍是主因；據悉三星在上月宣告全球換機後，就將原由三星集團SDI公司生產的電池，改為TDK設於中國的新能源科技公司電池。彭博另引述美國調查部門消息，更換電池後仍出事，推測與生產線有關；市場也揣測主因涉及主機板設計。\n",
    "三星上周五才發布優於市場預期的第3季財測，不到1周就因Note7停產，緊急調降財測。三星昨將第3季營業利益預測下修33%至5.2兆韓元（約1466億元台幣），遠低於上周預估約2200億元台幣。\n",
    "三星股價繼本周二宣布停產當天暴跌8.04%後，昨盤中再跌3.3%至149.40萬韓元，但收盤時跌幅縮至0.65%，以153.5萬韓元作收，累計過去3個交易日下跌10%。 \n",
    "\n",
    "寄「防火回收箱」\n",
    "三星宣布全面停產Note7並退費後，部分美國用戶陸續收到三星寄出的「防火回收箱」，以便退機。\n",
    "防火回收箱中包括塗有特殊防火塗料的盒子和防靜電袋，以及避免用戶對塗料敏感的防護手套。箱子外還特別警告，強調Note7只能通過陸路運輸，以免在空中爆炸，影響飛安。科技網站xdadevelopers前天發布回收箱的「開箱影片」，目前無法得知三星寄出多少回收箱。\"\"\""
   ]
  },
  {
   "cell_type": "code",
   "execution_count": 13,
   "metadata": {
    "collapsed": false
   },
   "outputs": [],
   "source": [
    "from collections import Counter\n",
    "c = Counter()\n",
    "for word in jieba.cut(article):\n",
    "    c[word] = c[word] + 1"
   ]
  },
  {
   "cell_type": "code",
   "execution_count": 15,
   "metadata": {
    "collapsed": false
   },
   "outputs": [
    {
     "data": {
      "text/plain": [
       "[('，', 45),\n",
       " ('\\n', 21),\n",
       " ('。', 17),\n",
       " ('三星', 14),\n",
       " ('Note7', 13),\n",
       " (' ', 12),\n",
       " ('的', 9),\n",
       " ('%', 9),\n",
       " ('回收', 9),\n",
       " ('調查', 6)]"
      ]
     },
     "execution_count": 15,
     "metadata": {},
     "output_type": "execute_result"
    }
   ],
   "source": [
    "c.most_common(10)"
   ]
  },
  {
   "cell_type": "code",
   "execution_count": 18,
   "metadata": {
    "collapsed": true
   },
   "outputs": [],
   "source": [
    "from collections import Counter\n",
    "stopwords = ['%','。','，','\\n']\n",
    "c = Counter()\n",
    "for word in jieba.cut(article):\n",
    "    if word not in stopwords and len(word) >= 2:\n",
    "        c[word] = c[word] + 1"
   ]
  },
  {
   "cell_type": "code",
   "execution_count": 19,
   "metadata": {
    "collapsed": false
   },
   "outputs": [
    {
     "data": {
      "text/plain": [
       "[('三星', 14),\n",
       " ('Note7', 13),\n",
       " ('回收', 9),\n",
       " ('調查', 6),\n",
       " ('防火', 6),\n",
       " ('電池', 6),\n",
       " ('停產', 5),\n",
       " ('NCC', 5),\n",
       " ('退換貨', 4),\n",
       " ('全面', 4)]"
      ]
     },
     "execution_count": 19,
     "metadata": {},
     "output_type": "execute_result"
    }
   ],
   "source": [
    "c.most_common(10)"
   ]
  },
  {
   "cell_type": "code",
   "execution_count": 20,
   "metadata": {
    "collapsed": false
   },
   "outputs": [
    {
     "name": "stdout",
     "output_type": "stream",
     "text": [
      "三星 14\n",
      "Note7 13\n",
      "回收 9\n",
      "調查 6\n",
      "防火 6\n",
      "電池 6\n",
      "停產 5\n",
      "NCC 5\n",
      "退換貨 4\n",
      "全面 4\n"
     ]
    }
   ],
   "source": [
    "for word, cnt in c.most_common(10):\n",
    "    print(word, cnt)"
   ]
  },
  {
   "cell_type": "markdown",
   "metadata": {},
   "source": [
    "## TF-IDF"
   ]
  },
  {
   "cell_type": "code",
   "execution_count": 22,
   "metadata": {
    "collapsed": true
   },
   "outputs": [],
   "source": [
    "a, abb, abc = [\"a\"], [\"a\", \"b\", \"b\"], [\"a\", \"b\", \"c\"]\n",
    "D = [a, abb, abc]"
   ]
  },
  {
   "cell_type": "markdown",
   "metadata": {},
   "source": [
    "### tfidf(\"a\", a, D)"
   ]
  },
  {
   "cell_type": "code",
   "execution_count": 30,
   "metadata": {
    "collapsed": false
   },
   "outputs": [
    {
     "data": {
      "text/plain": [
       "1.0"
      ]
     },
     "execution_count": 30,
     "metadata": {},
     "output_type": "execute_result"
    }
   ],
   "source": [
    "tf  = a.count('a') / 1\n",
    "tf"
   ]
  },
  {
   "cell_type": "code",
   "execution_count": 47,
   "metadata": {
    "collapsed": false
   },
   "outputs": [
    {
     "data": {
      "text/plain": [
       "0.0"
      ]
     },
     "execution_count": 47,
     "metadata": {},
     "output_type": "execute_result"
    }
   ],
   "source": [
    "docs = []\n",
    "for doc in D:\n",
    "    if 'a' in doc:\n",
    "        docs.append(doc)\n",
    "        \n",
    "NUMBEROFDOCCONTAINSA = len(docs)\n",
    "SIZEOFDOCUMENTS = len(D)\n",
    "\n",
    "import scipy \n",
    "idf = scipy.log(SIZEOFDOCUMENTS / NUMBEROFDOCCONTAINSA)\n",
    "idf"
   ]
  },
  {
   "cell_type": "code",
   "execution_count": 48,
   "metadata": {
    "collapsed": false
   },
   "outputs": [
    {
     "data": {
      "text/plain": [
       "0.0"
      ]
     },
     "execution_count": 48,
     "metadata": {},
     "output_type": "execute_result"
    }
   ],
   "source": [
    "tf * idf "
   ]
  },
  {
   "cell_type": "markdown",
   "metadata": {},
   "source": [
    "### tfidf(\"b\", abb, D)"
   ]
  },
  {
   "cell_type": "code",
   "execution_count": 51,
   "metadata": {
    "collapsed": false
   },
   "outputs": [
    {
     "data": {
      "text/plain": [
       "0.6666666666666666"
      ]
     },
     "execution_count": 51,
     "metadata": {},
     "output_type": "execute_result"
    }
   ],
   "source": [
    "NUMOFB = abb.count('b') \n",
    "\n",
    "TOTALPHRASE = 0\n",
    "for w in set(abb):\n",
    "    TOTALPHRASE =  TOTALPHRASE + abb.count(w)\n",
    "TOTALPHRASE \n",
    "\n",
    "tf = NUMOFB / TOTALPHRASE\n",
    "tf"
   ]
  },
  {
   "cell_type": "code",
   "execution_count": 55,
   "metadata": {
    "collapsed": false
   },
   "outputs": [
    {
     "data": {
      "text/plain": [
       "0.40546510810816438"
      ]
     },
     "execution_count": 55,
     "metadata": {},
     "output_type": "execute_result"
    }
   ],
   "source": [
    "docs = []\n",
    "for doc in D:\n",
    "    if 'b' in doc:\n",
    "        docs.append(doc)\n",
    "        \n",
    "NUMBEROFDOCCONTAINSB = len(docs)\n",
    "\n",
    "NUMBEROFDOCCONTAINSB = len([doc for doc in D if 'b' in doc])\n",
    "\n",
    "\n",
    "SIZEOFDOCUMENTS = len(D)\n",
    "import scipy \n",
    "idf = scipy.log(SIZEOFDOCUMENTS / NUMBEROFDOCCONTAINSB)\n",
    "idf"
   ]
  },
  {
   "cell_type": "code",
   "execution_count": 53,
   "metadata": {
    "collapsed": false
   },
   "outputs": [
    {
     "data": {
      "text/plain": [
       "0.27031007207210955"
      ]
     },
     "execution_count": 53,
     "metadata": {},
     "output_type": "execute_result"
    }
   ],
   "source": [
    "tf * idf"
   ]
  },
  {
   "cell_type": "code",
   "execution_count": 57,
   "metadata": {
    "collapsed": true
   },
   "outputs": [],
   "source": [
    "import scipy as sp\n",
    "def tfidf(t, d, D):\n",
    "    tf = float(d.count(t)) / sum(d.count(w) for w in set(d))\n",
    "    idf = sp.log(float(len(D)) / (len([doc for doc in D if t in doc])))\n",
    "    return tf * idf"
   ]
  },
  {
   "cell_type": "code",
   "execution_count": null,
   "metadata": {
    "collapsed": true
   },
   "outputs": [],
   "source": [
    "a, abb, abc = [\"a\"], [\"a\", \"b\", \"b\"], [\"a\", \"b\", \"c\"]\n",
    "D = [a, abb, abc]"
   ]
  },
  {
   "cell_type": "code",
   "execution_count": 58,
   "metadata": {
    "collapsed": false
   },
   "outputs": [
    {
     "name": "stdout",
     "output_type": "stream",
     "text": [
      "0.0\n",
      "0.270310072072\n",
      "0.0\n",
      "0.135155036036\n",
      "0.366204096223\n"
     ]
    }
   ],
   "source": [
    "print(tfidf(\"a\", a, D))\n",
    "print(tfidf(\"b\", abb, D))\n",
    "print(tfidf(\"a\", abc, D))\n",
    "print(tfidf(\"b\", abc, D))\n",
    "print(tfidf(\"c\", abc, D))"
   ]
  },
  {
   "cell_type": "markdown",
   "metadata": {},
   "source": [
    "## 計算中文詞的TFIDF"
   ]
  },
  {
   "cell_type": "code",
   "execution_count": 63,
   "metadata": {
    "collapsed": true
   },
   "outputs": [],
   "source": [
    "import jieba\n",
    "jieba.load_userdict(\"userdict.txt\")\n",
    "ary = ['【更新】柯P：洪智坤洩漏公文案還沒看到公文　今處理',\n",
    "       '留洪智坤 柯：殘障求職不易',\n",
    "       '人事處議處洪智坤　柯P：不清楚議處結果']\n",
    "\n",
    "corpus = []\n",
    "for title in ary:\n",
    "    corpus.append(' '.join(jieba.cut(title)))"
   ]
  },
  {
   "cell_type": "code",
   "execution_count": 64,
   "metadata": {
    "collapsed": false
   },
   "outputs": [
    {
     "data": {
      "text/plain": [
       "['【 更新 】 柯P ： 洪智坤 洩漏 公文 案還 沒 看到 公文 \\u3000 今處理',\n",
       " '留 洪智坤   柯 ： 殘障 求職 不易',\n",
       " '人事處 議處 洪智坤 \\u3000 柯P ： 不 清楚 議處 結果']"
      ]
     },
     "execution_count": 64,
     "metadata": {},
     "output_type": "execute_result"
    }
   ],
   "source": [
    "corpus"
   ]
  },
  {
   "cell_type": "code",
   "execution_count": 65,
   "metadata": {
    "collapsed": true
   },
   "outputs": [],
   "source": [
    "from sklearn.feature_extraction.text import CountVectorizer\n",
    "\n",
    "vectorizer = CountVectorizer() \n",
    "X          = vectorizer.fit_transform(corpus)\n"
   ]
  },
  {
   "cell_type": "code",
   "execution_count": 68,
   "metadata": {
    "collapsed": false
   },
   "outputs": [
    {
     "name": "stdout",
     "output_type": "stream",
     "text": [
      "['不易', '人事處', '今處理', '公文', '更新', '柯p', '案還', '殘障', '求職', '洩漏', '洪智坤', '清楚', '看到', '結果', '議處']\n"
     ]
    },
    {
     "data": {
      "text/plain": [
       "array([[0, 0, 1, 2, 1, 1, 1, 0, 0, 1, 1, 0, 1, 0, 0],\n",
       "       [1, 0, 0, 0, 0, 0, 0, 1, 1, 0, 1, 0, 0, 0, 0],\n",
       "       [0, 1, 0, 0, 0, 1, 0, 0, 0, 0, 1, 1, 0, 1, 2]], dtype=int64)"
      ]
     },
     "execution_count": 68,
     "metadata": {},
     "output_type": "execute_result"
    }
   ],
   "source": [
    "print(vectorizer.get_feature_names())\n",
    "X.toarray()"
   ]
  },
  {
   "cell_type": "code",
   "execution_count": 70,
   "metadata": {
    "collapsed": false
   },
   "outputs": [
    {
     "data": {
      "text/plain": [
       "array([ 0.        ,  0.        ,  0.31738473,  0.63476946,  0.31738473,\n",
       "        0.24137927,  0.31738473,  0.        ,  0.        ,  0.31738473,\n",
       "        0.18745253,  0.        ,  0.31738473,  0.        ,  0.        ])"
      ]
     },
     "execution_count": 70,
     "metadata": {},
     "output_type": "execute_result"
    }
   ],
   "source": [
    "from sklearn.feature_extraction.text import TfidfTransformer\n",
    "\n",
    "transformer = TfidfTransformer()\n",
    "tfidf       = transformer.fit_transform(X)\n",
    "weight      = tfidf.toarray()  \n",
    "weight[0]"
   ]
  },
  {
   "cell_type": "code",
   "execution_count": null,
   "metadata": {
    "collapsed": true
   },
   "outputs": [],
   "source": []
  }
 ],
 "metadata": {
  "kernelspec": {
   "display_name": "Python [Root]",
   "language": "python",
   "name": "Python [Root]"
  },
  "language_info": {
   "codemirror_mode": {
    "name": "ipython",
    "version": 3
   },
   "file_extension": ".py",
   "mimetype": "text/x-python",
   "name": "python",
   "nbconvert_exporter": "python",
   "pygments_lexer": "ipython3",
   "version": "3.5.2"
  }
 },
 "nbformat": 4,
 "nbformat_minor": 0
}
