{
 "cells": [
  {
   "cell_type": "markdown",
   "metadata": {},
   "source": [
    "## 英文斷詞"
   ]
  },
  {
   "cell_type": "code",
   "execution_count": 2,
   "metadata": {
    "collapsed": false
   },
   "outputs": [
    {
     "data": {
      "text/plain": [
       "['this', 'is', 'a', 'book']"
      ]
     },
     "execution_count": 2,
     "metadata": {},
     "output_type": "execute_result"
    }
   ],
   "source": [
    "s = 'this is a book'\n",
    "s.split()"
   ]
  },
  {
   "cell_type": "markdown",
   "metadata": {},
   "source": [
    "## 正規表達法斷句"
   ]
  },
  {
   "cell_type": "code",
   "execution_count": 4,
   "metadata": {
    "collapsed": false
   },
   "outputs": [],
   "source": [
    "s = '三星電子前天宣告Note7停產，全球正全面回收。台灣三星Note7在台售出4萬2000支，至昨仍有6000支未登記退換貨，考量安全，NCC（國家通訊傳播委員會）昨和台灣三星研擬，透過遠端韌體升級，逐步調低Note7電池容量，促使消費者出面辦理退換貨，全面回收。'"
   ]
  },
  {
   "cell_type": "code",
   "execution_count": 5,
   "metadata": {
    "collapsed": false
   },
   "outputs": [
    {
     "data": {
      "text/plain": [
       "['三星電子前天宣告Note7停產',\n",
       " '全球正全面回收',\n",
       " '台灣三星Note7在台售出4萬2000支',\n",
       " '至昨仍有6000支未登記退換貨',\n",
       " '考量安全',\n",
       " 'NCC（國家通訊傳播委員會）昨和台灣三星研擬',\n",
       " '透過遠端韌體升級',\n",
       " '逐步調低Note7電池容量',\n",
       " '促使消費者出面辦理退換貨',\n",
       " '全面回收',\n",
       " '']"
      ]
     },
     "execution_count": 5,
     "metadata": {},
     "output_type": "execute_result"
    }
   ],
   "source": [
    "import re\n",
    "re.split('，|。', s)"
   ]
  },
  {
   "cell_type": "markdown",
   "metadata": {},
   "source": [
    "## 使用Jieba 斷詞"
   ]
  },
  {
   "cell_type": "code",
   "execution_count": 7,
   "metadata": {
    "collapsed": false
   },
   "outputs": [
    {
     "name": "stdout",
     "output_type": "stream",
     "text": [
      "三星\n",
      "電子\n",
      "前天\n",
      "宣告\n",
      "Note7\n",
      "停產\n",
      "，\n",
      "全球\n",
      "正\n",
      "全面\n",
      "回收\n",
      "。\n",
      "台灣\n",
      "三星\n",
      "Note7\n",
      "在\n",
      "台\n",
      "售出\n",
      "4\n",
      "萬\n",
      "2000\n",
      "支\n",
      "，\n",
      "至\n",
      "昨\n",
      "仍\n",
      "有\n",
      "6000\n",
      "支未\n",
      "登記\n",
      "退換貨\n",
      "，\n",
      "考量\n",
      "安全\n",
      "，\n",
      "NCC\n",
      "（\n",
      "國家\n",
      "通訊\n",
      "傳播\n",
      "委員會\n",
      "）\n",
      "昨和台灣\n",
      "三星\n",
      "研擬\n",
      "，\n",
      "透過\n",
      "遠端\n",
      "韌體\n",
      "升級\n",
      "，\n",
      "逐步\n",
      "調低\n",
      "Note7\n",
      "電池\n",
      "容量\n",
      "，\n",
      "促使\n",
      "消費者\n",
      "出面\n",
      "辦理\n",
      "退換貨\n",
      "，\n",
      "全面\n",
      "回收\n",
      "。\n"
     ]
    }
   ],
   "source": [
    "import jieba\n",
    "s = '三星電子前天宣告Note7停產，全球正全面回收。台灣三星Note7在台售出4萬2000支，至昨仍有6000支未登記退換貨，考量安全，NCC（國家通訊傳播委員會）昨和台灣三星研擬，透過遠端韌體升級，逐步調低Note7電池容量，促使消費者出面辦理退換貨，全面回收。'\n",
    "for word in jieba.cut(s):\n",
    "    print(word)"
   ]
  },
  {
   "cell_type": "code",
   "execution_count": 9,
   "metadata": {
    "collapsed": false
   },
   "outputs": [
    {
     "name": "stdout",
     "output_type": "stream",
     "text": [
      "大\n",
      "巨蛋\n",
      "案對\n",
      "市府\n",
      "同仁\n",
      "下\n",
      "封口令\n",
      "？\n",
      "　\n",
      "柯\n",
      "P\n",
      "否認\n"
     ]
    }
   ],
   "source": [
    "s = '大巨蛋案對市府同仁下封口令？　柯P否認'\n",
    "for word in jieba.cut(s):\n",
    "    print(word)"
   ]
  },
  {
   "cell_type": "markdown",
   "metadata": {},
   "source": [
    "## 載入使用者字典"
   ]
  },
  {
   "cell_type": "code",
   "execution_count": 10,
   "metadata": {
    "collapsed": false
   },
   "outputs": [
    {
     "name": "stdout",
     "output_type": "stream",
     "text": [
      "大巨蛋\n",
      "案對\n",
      "市府\n",
      "同仁\n",
      "下\n",
      "封口令\n",
      "？\n",
      "　\n",
      "柯P\n",
      "否認\n"
     ]
    }
   ],
   "source": [
    "jieba.load_userdict(\"userdict.txt\")\n",
    "s = '大巨蛋案對市府同仁下封口令？　柯P否認'\n",
    "for word in jieba.cut(s):\n",
    "    print(word)"
   ]
  },
  {
   "cell_type": "code",
   "execution_count": null,
   "metadata": {
    "collapsed": true
   },
   "outputs": [],
   "source": []
  }
 ],
 "metadata": {
  "kernelspec": {
   "display_name": "Python [Root]",
   "language": "python",
   "name": "Python [Root]"
  },
  "language_info": {
   "codemirror_mode": {
    "name": "ipython",
    "version": 3
   },
   "file_extension": ".py",
   "mimetype": "text/x-python",
   "name": "python",
   "nbconvert_exporter": "python",
   "pygments_lexer": "ipython3",
   "version": "3.5.2"
  }
 },
 "nbformat": 4,
 "nbformat_minor": 0
}
